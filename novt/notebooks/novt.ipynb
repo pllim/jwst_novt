{
 "cells": [
  {
   "cell_type": "markdown",
   "id": "b9bbd263-86df-4152-97f8-5398d2052a3b",
   "metadata": {},
   "source": [
    "# NIRSpec MOS Pre-Imaging Planner"
   ]
  },
  {
   "cell_type": "code",
   "execution_count": null,
   "id": "004b39a0-17c0-4acf-9769-e8940034ed02",
   "metadata": {},
   "outputs": [],
   "source": [
    "from IPython.display import display\n",
    "import ipywidgets as ipw\n",
    "\n",
    "from novt.interact.upload_data import UploadData\n",
    "from novt.interact.show_overlays import ShowOverlays\n",
    "from novt.interact.control_instruments import ControlInstruments\n",
    "from novt.interact.view_image import ViewImage"
   ]
  },
  {
   "cell_type": "code",
   "execution_count": null,
   "id": "2f680961-c821-46b5-b297-e0689aa56071",
   "metadata": {
    "tags": []
   },
   "outputs": [],
   "source": [
    "# make widgets\n",
    "image_viewer = ViewImage()\n",
    "uploaded_data = UploadData(image_viewer.viz)\n",
    "nirspec_controls = ControlInstruments('NIRSpec', image_viewer.viz)\n",
    "nircam_controls = ControlInstruments('NIRCam', image_viewer.viz)\n",
    "overlay_controls = ShowOverlays(image_viewer.viz, uploaded_data, \n",
    "                                nirspec=nirspec_controls, \n",
    "                                nircam=nircam_controls)"
   ]
  },
  {
   "cell_type": "code",
   "execution_count": null,
   "id": "49bd0d80-3d90-491c-a99a-dc8d194feb56",
   "metadata": {},
   "outputs": [],
   "source": [
    "# set layout\n",
    "col_layout = ipw.Layout(display='flex', flex_flow='column', \n",
    "                        align_items='stretch')\n",
    "width_layout = ipw.Layout(display='flex', flex_flow='column', \n",
    "                        align_items='stretch', width='95vw', \n",
    "                        padding='0px', margin='0px')\n",
    "viewer_with_controls = ipw.Box(\n",
    "    children=[overlay_controls.widgets, image_viewer.widgets],\n",
    "    layout=col_layout)\n",
    "viewer_tab = ipw.Accordion(children=[viewer_with_controls],\n",
    "    layout=col_layout, titles=[image_viewer.title])\n",
    "viewer_tab.selected_index = 0\n",
    "\n",
    "container = ipw.Box(\n",
    "    children=[uploaded_data.widgets, nirspec_controls.widgets, \n",
    "              nircam_controls.widgets, viewer_tab],\n",
    "    layout=width_layout)"
   ]
  },
  {
   "cell_type": "code",
   "execution_count": null,
   "id": "f5b1b86e-7fa8-4f76-9101-61dc5f4c2eb3",
   "metadata": {},
   "outputs": [],
   "source": [
    "# display widgets\n",
    "display(container)"
   ]
  }
 ],
 "metadata": {
  "kernelspec": {
   "display_name": "Python 3 (ipykernel)",
   "language": "python",
   "name": "python3"
  },
  "language_info": {
   "codemirror_mode": {
    "name": "ipython",
    "version": 3
   },
   "file_extension": ".py",
   "mimetype": "text/x-python",
   "name": "python",
   "nbconvert_exporter": "python",
   "pygments_lexer": "ipython3",
   "version": "3.11.3"
  }
 },
 "nbformat": 4,
 "nbformat_minor": 5
}
