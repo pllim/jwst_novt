{
 "cells": [
  {
   "cell_type": "markdown",
   "id": "b9bbd263-86df-4152-97f8-5398d2052a3b",
   "metadata": {},
   "source": [
    "# Prototype application for NIRSpec MOS preimaging planner\n",
    "\n",
    "This application is intended to demonstrate some minimal functionality for the preimaging planning tool, implemented as an interactive Jupyter notebook with IPyWidget buttons and an Imviz application for visualization.  The FITS data, FOV regions, and source catalog are pre-loaded in this prototype; they will be dynamically identified, calculated, and loaded in the real application.\n",
    "\n",
    "Try pressing the show/hide buttons below to demonstrate the custom display controls. Use Imviz tools directly for zoom, scale, colormap, etc."
   ]
  },
  {
   "cell_type": "code",
   "execution_count": null,
   "id": "004b39a0-17c0-4acf-9769-e8940034ed02",
   "metadata": {},
   "outputs": [],
   "source": [
    "import os\n",
    "import warnings\n",
    "\n",
    "from astropy.coordinates import SkyCoord\n",
    "from astropy.table import Table\n",
    "from IPython.display import display, HTML\n",
    "import ipywidgets as ipw\n",
    "from jdaviz import Imviz\n",
    "import numpy as np\n",
    "from regions import Regions"
   ]
  },
  {
   "cell_type": "code",
   "execution_count": null,
   "id": "6a860b35-6942-4bdf-ab4e-1ea740945486",
   "metadata": {},
   "outputs": [],
   "source": [
    "# set up viewer sizing for voila app\n",
    "display(HTML(\"<style>.jdaviz__content--not-in-notebook {min-height: 80vh; max-height:80vh}</style>\"))\n",
    "\n",
    "# set working directory if called from voila app\n",
    "os.chdir(os.environ.get('JDAVIZ_START_DIR', '.'))"
   ]
  },
  {
   "cell_type": "code",
   "execution_count": null,
   "id": "e863e0fc-f238-48fc-9b93-d6550e105902",
   "metadata": {},
   "outputs": [],
   "source": [
    "# start imviz viewer\n",
    "viz = Imviz()\n",
    "viewer = viz.default_viewer"
   ]
  },
  {
   "cell_type": "code",
   "execution_count": null,
   "id": "97991b03-c65b-4458-8863-2a6e46446ea8",
   "metadata": {},
   "outputs": [],
   "source": [
    "# load FITS data\n",
    "image_name = 'hlsp_legus_hst_acs_ngc5194-ngc5195-mosaic_f814w_v1_sci.fits'\n",
    "with warnings.catch_warnings():\n",
    "    warnings.simplefilter('ignore')\n",
    "    viz.load_data(image_name)"
   ]
  },
  {
   "cell_type": "code",
   "execution_count": null,
   "id": "10f1c3d9-ba76-4164-9b40-62e4f1e81791",
   "metadata": {},
   "outputs": [],
   "source": [
    "# load the NIRSpec FOV\n",
    "reg_name = 'ds9-msa.reg'\n",
    "raw_regs = Regions.read(reg_name, format='ds9')\n",
    "\n",
    "viz.load_regions(raw_regs)\n",
    "i = 0\n",
    "for subset in viz.app.data_collection.subset_groups:\n",
    "    subset.style.color = 'red'\n",
    "    subset.style.alpha = 0\n",
    "    subset.label = f'NIRSpec {i}'\n",
    "    i += 1"
   ]
  },
  {
   "cell_type": "code",
   "execution_count": null,
   "id": "d642a898-4810-4957-8513-f0d4d497add9",
   "metadata": {},
   "outputs": [],
   "source": [
    "# load the NIRCam FOVs\n",
    "reg_name = 'ds9-long-no.reg'\n",
    "raw_regs = Regions.read(reg_name, format='ds9')\n",
    "\n",
    "viz.load_regions(raw_regs)\n",
    "i = 0\n",
    "for subset in viz.app.data_collection.subset_groups:\n",
    "    if subset.label.startswith('Masked'):\n",
    "        subset.style.color = 'blue'\n",
    "        subset.style.alpha = 0\n",
    "        subset.label = f'NIRCam Long {i}'\n",
    "        i += 1\n",
    "        \n",
    "reg_name = 'ds9-short-no.reg'\n",
    "raw_regs = Regions.read(reg_name, format='ds9')\n",
    "\n",
    "viz.load_regions(raw_regs)\n",
    "i = 0\n",
    "for subset in viz.app.data_collection.subset_groups:\n",
    "    if subset.label.startswith('Masked'):\n",
    "        subset.style.color = 'green'\n",
    "        subset.style.alpha = 0\n",
    "        subset.label = f'NIRCam Short {i}'\n",
    "        i += 1"
   ]
  },
  {
   "cell_type": "code",
   "execution_count": null,
   "id": "0680744c-e51b-4ca9-9293-35165d3ebced",
   "metadata": {},
   "outputs": [],
   "source": [
    "# load the source catalog\n",
    "cat_name = 'm51.radec'\n",
    "catalog = Table.read(cat_name, format='ascii')\n",
    "\n",
    "filler = (catalog.columns[2] == 'F')\n",
    "primary = ~filler\n",
    "\n",
    "primary_coord = Table({'coord': [SkyCoord(ra=catalog.columns[0][primary],\n",
    "                                          dec=catalog.columns[1][primary],\n",
    "                                          unit=\"deg\")]})\n",
    "filler_coord = Table({'coord': [SkyCoord(ra=catalog.columns[0][filler],\n",
    "                                         dec=catalog.columns[1][filler],\n",
    "                                         unit=\"deg\")]})\n",
    "viewer.marker = {'color': 'red', 'alpha': 0.5, 'markersize': 10, 'fill': False}\n",
    "viewer.add_markers(primary_coord, use_skycoord=True, marker_name='primary_markers')\n",
    "\n",
    "viewer.marker = {'color': 'yellow', 'alpha': 0.3, 'markersize': 10, 'fill': False}\n",
    "viewer.add_markers(filler_coord, use_skycoord=True, marker_name='filler_markers')\n",
    "\n",
    "for lyr in viewer.layers:\n",
    "    if 'markers' in lyr.layer.label:\n",
    "        lyr.visible = False"
   ]
  },
  {
   "cell_type": "code",
   "execution_count": null,
   "id": "94d1f9ef-6ce4-42fc-a7d6-deca20e1b2ba",
   "metadata": {},
   "outputs": [],
   "source": [
    "# define FOV show/hide buttons\n",
    "class FOVButton(ipw.Button):\n",
    "    def __init__(self, *args, **kwargs):\n",
    "        self.value = kwargs.pop('value', '')\n",
    "        super().__init__(*args, **kwargs)\n",
    "\n",
    "def on_fov_clicked(b):\n",
    "    if b.description.startswith('Show'):\n",
    "        b.description = f'Hide {b.value} FOV'\n",
    "        for subset in viz.app.data_collection.subset_groups:\n",
    "            if b.value in subset.label:\n",
    "                subset.style.alpha = 0.5\n",
    "    else:            \n",
    "        b.description = f'Show {b.value} FOV'\n",
    "        for subset in viz.app.data_collection.subset_groups:\n",
    "            if b.value in subset.label:\n",
    "                subset.style.alpha = 0\n",
    "                \n",
    "fov_buttons = []\n",
    "for name in ['NIRSpec', 'NIRCam Short', 'NIRCam Long']:\n",
    "    button = FOVButton(description=f'Show {name} FOV', value=name, layout=ipw.Layout(width='auto'))\n",
    "    button.on_click(on_fov_clicked)\n",
    "    fov_buttons.append(button)"
   ]
  },
  {
   "cell_type": "code",
   "execution_count": null,
   "id": "2f680961-c821-46b5-b297-e0689aa56071",
   "metadata": {
    "tags": []
   },
   "outputs": [],
   "source": [
    "# define catalog show/hide button\n",
    "def on_cat_clicked(b):\n",
    "    if b.description.startswith('Show'):\n",
    "        b.description = 'Hide M51 Catalog'\n",
    "        for lyr in viewer.layers:\n",
    "            if 'markers' in lyr.layer.label:\n",
    "                lyr.visible = True\n",
    "\n",
    "    else:\n",
    "        b.description = 'Show M51 Catalog'\n",
    "        for lyr in viewer.layers:\n",
    "            if 'markers' in lyr.layer.label:\n",
    "                lyr.visible = False\n",
    "                \n",
    "cat_button = ipw.Button(description='Show M51 Catalog', layout=ipw.Layout(width='auto'))\n",
    "cat_button.on_click(on_cat_clicked)"
   ]
  },
  {
   "cell_type": "code",
   "execution_count": null,
   "id": "49bd0d80-3d90-491c-a99a-dc8d194feb56",
   "metadata": {},
   "outputs": [],
   "source": [
    "# set layout\n",
    "button_layout = ipw.Layout(display='flex', flex_flow='row', justify_content='flex-start')\n",
    "box_layout = ipw.Layout(display='flex', flex_flow='column', align_items='stretch', width='90vw', height='90vh')\n",
    "\n",
    "buttons = ipw.Box(children=fov_buttons + [cat_button], layout=button_layout)\n",
    "box = ipw.Box(children=[buttons, viz.app], layout=box_layout)"
   ]
  },
  {
   "cell_type": "code",
   "execution_count": null,
   "id": "f5b1b86e-7fa8-4f76-9101-61dc5f4c2eb3",
   "metadata": {},
   "outputs": [],
   "source": [
    "# display widgets\n",
    "display(box)"
   ]
  },
  {
   "cell_type": "code",
   "execution_count": null,
   "id": "a984d368-b186-4e50-bc36-273e84706ed8",
   "metadata": {},
   "outputs": [],
   "source": []
  }
 ],
 "metadata": {
  "kernelspec": {
   "display_name": "Python 3 (ipykernel)",
   "language": "python",
   "name": "python3"
  },
  "language_info": {
   "codemirror_mode": {
    "name": "ipython",
    "version": 3
   },
   "file_extension": ".py",
   "mimetype": "text/x-python",
   "name": "python",
   "nbconvert_exporter": "python",
   "pygments_lexer": "ipython3",
   "version": "3.11.3"
  }
 },
 "nbformat": 4,
 "nbformat_minor": 5
}
